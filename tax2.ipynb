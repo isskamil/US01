{
 "cells": [
  {
   "cell_type": "code",
   "execution_count": null,
   "metadata": {},
   "outputs": [],
   "source": [
    "import pandas as pd"
   ]
  },
  {
   "cell_type": "code",
   "execution_count": null,
   "metadata": {},
   "outputs": [],
   "source": [
    "df = pd.read_excel('c:\\\\Users\\\\GOLDIK\\\\Desktop\\\\Data-sheet-STUDENTS.xlsx',\n",
    "                header=2,\n",
    "                usecols='B',\n",
    "                names=['countries'] \n",
    "            )"
   ]
  },
  {
   "cell_type": "code",
   "execution_count": null,
   "metadata": {},
   "outputs": [],
   "source": [
    "df"
   ]
  },
  {
   "cell_type": "code",
   "execution_count": null,
   "metadata": {},
   "outputs": [],
   "source": [
    "countries={}\n",
    "for country in df['countries']:\n",
    "    countries[country] = {}\n",
    "countries    "
   ]
  },
  {
   "cell_type": "code",
   "execution_count": null,
   "metadata": {},
   "outputs": [],
   "source": [
    "import requests\n",
    "test_country = list(countries.keys())[0]\n",
    "url = 'https://restcountries.eu/rest/v2/name/' + test_country\n",
    "r= requests.get(url)\n",
    "data= r.json()\n",
    "print(test_country,data[0]['name'],data[0]['alpha2Code'])"
   ]
  },
  {
   "cell_type": "code",
   "execution_count": null,
   "metadata": {},
   "outputs": [],
   "source": [
    "import requests\n",
    "from tqdm import tnrange, tqdm_notebook\n",
    "from time import sleep\n",
    "\n",
    "for i in tnrange (len(countries.keys())):\n",
    "        try:\n",
    "            test_country = list(countries.keys())[0]\n",
    "            url = 'https://restcountries.eu/rest/v2/name/' + test_country\n",
    "            r= requests.get(url)\n",
    "            data= r.json()\n",
    "            countries[test_country]['alpha2code']=data[0]['alpha2code']\n",
    "        except KeyError:\n",
    "            \n",
    "            print (data)\n",
    "            \n",
    "        \n",
    "        sleep (5)"
   ]
  },
  {
   "cell_type": "code",
   "execution_count": null,
   "metadata": {},
   "outputs": [],
   "source": [
    "k=key=country v=value"
   ]
  },
  {
   "cell_type": "code",
   "execution_count": null,
   "metadata": {},
   "outputs": [],
   "source": [
    "for k,v in countries.items():\n",
    "    country = ''\n",
    "    if len(v.keys()) == 0:\n",
    "        if 'not bri' in k.lower():\n",
    "            print(k.split('(')[0].strip())\n",
    "        elif k== 'Thailiand':\n",
    "            country =('thailand')\n",
    "        else:\n",
    "            country = k[4:]\n",
    "        try:\n",
    "            test_country = list(countries.keys())[0]\n",
    "            url = 'https://restcountries.eu/rest/v2/name/' + test_country\n",
    "            r= requests.get(url)\n",
    "            data= r.json()\n",
    "            countries[country]['alpha2code']=data[0]['alpha2code']\n",
    "        except KeyError:\n",
    "            \n",
    "            print (data)\n",
    "            \n",
    "        \n",
    "        sleep (5)\n",
    "        "
   ]
  },
  {
   "cell_type": "code",
   "execution_count": null,
   "metadata": {},
   "outputs": [],
   "source": [
    "for k,v in countries.items():\n",
    "    try\n",
    "        url = 'http://api.worldbank.org/v2/countries/'+v['alpha2code']+'/indicators/NY.GDP.MKP\n",
    "        r = requests.get(url)\n",
    "        data = r.json()\n",
    "        countries[k]['gdp'] = float(data[1][0]['value'])\n",
    "        sleep(2)\n",
    "    except IndexError:\n",
    "        print(k,'has an index problem', data)\n",
    "    except TypeError :\n",
    "        print(k, 'has an type problem', data)\n",
    "        \n",
    "        \n",
    "        "
   ]
  }
 ],
 "metadata": {
  "kernelspec": {
   "display_name": "Python 3",
   "language": "python",
   "name": "python3"
  },
  "language_info": {
   "codemirror_mode": {
    "name": "ipython",
    "version": 3
   },
   "file_extension": ".py",
   "mimetype": "text/x-python",
   "name": "python",
   "nbconvert_exporter": "python",
   "pygments_lexer": "ipython3",
   "version": "3.7.0"
  }
 },
 "nbformat": 4,
 "nbformat_minor": 2
}
