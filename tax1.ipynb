{
 "cells": [
  {
   "cell_type": "code",
   "execution_count": 9,
   "metadata": {},
   "outputs": [],
   "source": [
    "rawtaxes= '''\n",
    "Alabama\t4%\t13.5%\t\t\t\t\t\t\n",
    "Alaska\t0%\t7%\t\t\t\t\t\t\n",
    "Arizona\t5.6%\t10.725%\t\t\t\t\t\t\n",
    "Arkansas\t6.5%\t11.625%\t1.5%+\t\t\t\t\t\n",
    "California\t7.25%\t10.25%\t\t\t\t\t\t\n",
    "Colorado\t2.9%\t10%\t\t\t\t\t\t\n",
    "Connecticut\t6.35%\t6.35%\t\t\t\t\t\t1%\n",
    "Delaware\t0%\t0%\t\t\t\t\t\t\n",
    "District of Columbia\t5.75%\t5.75%\t\t10%\t\t\t\t\n",
    "Florida\t6%\t7.5%\t\t9% (max)\t\t\t\t\n",
    "Georgia\t4%\t8%\t4% (max)[40]\t\t\t\t\t\n",
    "Guam\t4%\t4%\t\t\t\t\t\n",
    "Hawaii\t4.166%\t4.712%\t\t\t\t\t\t\n",
    "Idaho\t6%\t8.5%\t\t\t[41]\t\t\t\n",
    "Illinois\t6.25%\t10.25%\t1%+\t8.25%+\t1%+\t1%+\t\t\n",
    "Indiana\t7%\t7%\t\t9% (max)\t\t\t\t\n",
    "Iowa[42]\t6%\t7%\t\t\t\t\t\t\n",
    "Kansas\t6.5%\t10.15%\t\t\t\t\t\t\n",
    "Kentucky\t6%\t6%\t\t\t\t\t\t\n",
    "Louisiana\t5%\t12%\t7.0% (max)\t\t\t\t\t\n",
    "Maine\t5.5%\t5.5%\t\t8%\t\t\t\t\n",
    "Maryland\t6%\t6%\t\t\t\t\t\t\n",
    "Massachusetts\t6.25%\t6.25%\t\t7% (max)\t\t\t> $175\t\n",
    "Michigan\t6%\t6%\t\t\t\t\t\t\n",
    "Minnesota\t6.875%\t7.875%\t\t10.775% (max)\t\t\t\t\n",
    "Mississippi\t7%\t7.25%\t\t\t\t\t\t\n",
    "Missouri\t4.225%\t10.85%\t1.225%\t\t\t\t\t\n",
    "Montana\t0%\t0%\t\t\t\t\t\t\n",
    "Nebraska\t5.5%\t7.5%\t\t9.5% \n",
    "(Omaha)\t\t\t\t\n",
    "Nevada\t6.85%\t8.25%\t\t\t\t\t\t\n",
    "New Hampshire\t0%\t0%\t\t9%\t\t\t\t\n",
    "New Jersey\t6.625%\t12.875%\t\t\t\t\t\t\n",
    "New Mexico\t5.125%\t8.688%\t\t\t\t\t\t\n",
    "New York\t4%\t8.875%\t\t\t\t\t> $110\t\n",
    "North Carolina\t4.75%\t7.50%\t2%\t8.50% (max)\t\t\t\t\n",
    "North Dakota [43]\t5%\t8%\t\t\t\t\t\t\n",
    "Ohio[44]\t5.75%\t8%\t\tDine-in\t\t\t\t\n",
    "Oklahoma\t4.5%\t11%\t\t\t\t\t\t\n",
    "Oregon\t0%\t0%\t\t\t\t\t\t\n",
    "Pennsylvania\t6%\t8%\t\t\t\t\t\t\n",
    "Puerto Rico\t10.5%\t11.5%\t1%\t\t\t\t\n",
    "Rhode Island\t7%\t7%\t\t8%\t\t\t\t\n",
    "South Carolina\t6%\t9%\t\t10.5%\t\t\t\t\n",
    "South Dakota\t4%\t6%\t\t\t\t\t\t\n",
    "Tennessee\t7%\t9.75%\t4%+\t\t\t\t\t\n",
    "Texas\t6.25%\t8.25%\t\t\t\t\t\t\n",
    "Utah\t5.95%\t8.35%\t3%\t\t\t\t\t\n",
    "Vermont\t6%\t7%\t\t9%+\t\t\t> $110\t\n",
    "Virginia\t5.3%\t6%\t2.5%\t5.3%+\t\t\t\t\n",
    "Washington\t6.5%\t10.4%\t\t10% (max)\t\t\t\t\n",
    "West Virginia\t6%\t7%\t\t\t\t\t\t\n",
    "Wisconsin\t5%\t6.75%\t\t\t\t\t\t\n",
    "Wyoming\t4%\t6%\t\t\t\t\t\t\n",
    "'''"
   ]
  },
  {
   "cell_type": "code",
   "execution_count": 11,
   "metadata": {},
   "outputs": [
    {
     "data": {
      "text/plain": [
       "{'Alabama': 0.04,\n",
       " 'Alaska': 0.0,\n",
       " 'Arizona': 0.055999999999999994,\n",
       " 'Arkansas': 0.065,\n",
       " 'California': 0.0725,\n",
       " 'Colorado': 0.028999999999999998,\n",
       " 'Connecticut': 0.0635,\n",
       " 'Delaware': 0.0,\n",
       " 'District of Columbia': 0.0575,\n",
       " 'Florida': 0.06,\n",
       " 'Georgia': 0.04,\n",
       " 'Guam': 0.04,\n",
       " 'Hawaii': 0.04166,\n",
       " 'Idaho': 0.06,\n",
       " 'Illinois': 0.0625,\n",
       " 'Indiana': 0.07,\n",
       " 'Iowa': 0.06,\n",
       " 'Kansas': 0.065,\n",
       " 'Kentucky': 0.06,\n",
       " 'Louisiana': 0.05,\n",
       " 'Maine': 0.055,\n",
       " 'Maryland': 0.06,\n",
       " 'Massachusetts': 0.0625,\n",
       " 'Michigan': 0.06,\n",
       " 'Minnesota': 0.06875,\n",
       " 'Mississippi': 0.07,\n",
       " 'Missouri': 0.042249999999999996,\n",
       " 'Montana': 0.0,\n",
       " 'Nebraska': 0.055,\n",
       " 'Nevada': 0.06849999999999999,\n",
       " 'New Hampshire': 0.0,\n",
       " 'New Jersey': 0.06625,\n",
       " 'New Mexico': 0.05125,\n",
       " 'New York': 0.04,\n",
       " 'North Carolina': 0.0475,\n",
       " 'North Dakota ': 0.05,\n",
       " 'Ohio': 0.0575,\n",
       " 'Oklahoma': 0.045,\n",
       " 'Oregon': 0.0,\n",
       " 'Pennsylvania': 0.06,\n",
       " 'Puerto Rico': 0.105,\n",
       " 'Rhode Island': 0.07,\n",
       " 'South Carolina': 0.06,\n",
       " 'South Dakota': 0.04,\n",
       " 'Tennessee': 0.07,\n",
       " 'Texas': 0.0625,\n",
       " 'Utah': 0.059500000000000004,\n",
       " 'Vermont': 0.06,\n",
       " 'Virginia': 0.053,\n",
       " 'Washington': 0.065,\n",
       " 'West Virginia': 0.06,\n",
       " 'Wisconsin': 0.05,\n",
       " 'Wyoming': 0.04}"
      ]
     },
     "execution_count": 11,
     "metadata": {},
     "output_type": "execute_result"
    }
   ],
   "source": [
    "taxes = {}\n",
    "\n",
    "for line in rawtaxes.split('\\n'):\n",
    "    if len(line) < 2:\n",
    "        continue \n",
    "    if 'Omaha' in line : \n",
    "        continue\n",
    "        \n",
    "    state = line.split('\\t')[0].split('[')[0]\n",
    "    \n",
    "    tax = float(line.split('\\t')[1][:-1])/100\n",
    "    \n",
    "    taxes[state]= tax\n",
    "    \n",
    "taxes\n"
   ]
  },
  {
   "cell_type": "code",
   "execution_count": 14,
   "metadata": {},
   "outputs": [],
   "source": [
    "people= 4\n",
    "tip= 'i think it was pretty Good, and compliment au chef'\n",
    "State= 'New York'\n",
    "bill=30\n",
    "tax=0.06 \n",
    "tips = {'bad':0.1, 'average':0.18, 'good':0.2}\n"
   ]
  },
  {
   "cell_type": "code",
   "execution_count": 15,
   "metadata": {},
   "outputs": [
    {
     "name": "stdout",
     "output_type": "stream",
     "text": [
      "i\n",
      "think\n",
      "it\n",
      "was\n",
      "pretty\n",
      "good,\n",
      "we found it good the value is 0.2\n",
      "tip is 0.2\n"
     ]
    }
   ],
   "source": [
    "import re\n",
    "\n",
    "finaltip = 'average'\n",
    "for word in tip.lower().split():\n",
    "    print(word)\n",
    "    if not word.isalnum():\n",
    "        m = re.search(r\"\\w+\",word)\n",
    "        word= m.group(0)\n",
    "        \n",
    "    if word in tips.keys():\n",
    "        finaltip = tips[word]\n",
    "        break\n",
    "        \n",
    "print('we found it',word,'the value is',tips[word])\n",
    "print('tip is',finaltip)"
   ]
  },
  {
   "cell_type": "markdown",
   "metadata": {},
   "source": [
    "choix tips methode 1"
   ]
  },
  {
   "cell_type": "code",
   "execution_count": 16,
   "metadata": {},
   "outputs": [],
   "source": [
    "finaltip = 'average'\n",
    "\n",
    "for k in tips.keys():\n",
    "    if k in tip.lower():\n",
    "        finaltip=tips[k]\n",
    "        break"
   ]
  },
  {
   "cell_type": "markdown",
   "metadata": {},
   "source": [
    "choix tips methode 2"
   ]
  },
  {
   "cell_type": "code",
   "execution_count": 17,
   "metadata": {},
   "outputs": [
    {
     "ename": "KeyError",
     "evalue": "'wyoming'",
     "output_type": "error",
     "traceback": [
      "\u001b[1;31m---------------------------------------------------------------------------\u001b[0m",
      "\u001b[1;31mKeyError\u001b[0m                                  Traceback (most recent call last)",
      "\u001b[1;32m<ipython-input-17-7a83c2568939>\u001b[0m in \u001b[0;36m<module>\u001b[1;34m()\u001b[0m\n\u001b[0;32m      4\u001b[0m     \u001b[0mprint\u001b[0m\u001b[1;33m(\u001b[0m\u001b[1;34m'the tip is ill written'\u001b[0m\u001b[1;33m)\u001b[0m\u001b[1;33m\u001b[0m\u001b[0m\n\u001b[0;32m      5\u001b[0m \u001b[1;33m\u001b[0m\u001b[0m\n\u001b[1;32m----> 6\u001b[1;33m \u001b[0mtotal_with_tax\u001b[0m \u001b[1;33m=\u001b[0m \u001b[0mbill\u001b[0m \u001b[1;33m*\u001b[0m \u001b[0mtaxes\u001b[0m\u001b[1;33m[\u001b[0m\u001b[0mstate\u001b[0m\u001b[1;33m.\u001b[0m\u001b[0mlower\u001b[0m\u001b[1;33m(\u001b[0m\u001b[1;33m)\u001b[0m\u001b[1;33m]\u001b[0m\u001b[1;33m\u001b[0m\u001b[0m\n\u001b[0m\u001b[0;32m      7\u001b[0m \u001b[1;33m\u001b[0m\u001b[0m\n\u001b[0;32m      8\u001b[0m \u001b[0mtotal\u001b[0m \u001b[1;33m=\u001b[0m \u001b[0mtotal_pre_tax\u001b[0m \u001b[1;33m+\u001b[0m \u001b[0mtotal_with_tax\u001b[0m \u001b[1;33m+\u001b[0m \u001b[0mbill\u001b[0m\u001b[1;33m\u001b[0m\u001b[0m\n",
      "\u001b[1;31mKeyError\u001b[0m: 'wyoming'"
     ]
    }
   ],
   "source": [
    "try:   \n",
    "    total_pre_tax = bill * finaltip\n",
    "except KeyError:\n",
    "    print('the tip is ill written')\n",
    "\n",
    "total_with_tax = bill * taxes[state.lower()]\n",
    "\n",
    "total = total_pre_tax + total_with_tax + bill\n",
    "total\n",
    "print('price for',people,'people is',total,)\n"
   ]
  },
  {
   "cell_type": "code",
   "execution_count": 6,
   "metadata": {},
   "outputs": [
    {
     "name": "stdout",
     "output_type": "stream",
     "text": [
      "price per person is 9.45\n"
     ]
    }
   ],
   "source": [
    "print('price per person is',total/people)"
   ]
  }
 ],
 "metadata": {
  "kernelspec": {
   "display_name": "Python 3",
   "language": "python",
   "name": "python3"
  },
  "language_info": {
   "codemirror_mode": {
    "name": "ipython",
    "version": 3
   },
   "file_extension": ".py",
   "mimetype": "text/x-python",
   "name": "python",
   "nbconvert_exporter": "python",
   "pygments_lexer": "ipython3",
   "version": "3.7.0"
  }
 },
 "nbformat": 4,
 "nbformat_minor": 2
}
